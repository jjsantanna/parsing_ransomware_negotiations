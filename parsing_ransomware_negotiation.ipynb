{
 "cells": [
  {
   "cell_type": "code",
   "execution_count": null,
   "id": "eda32d4d",
   "metadata": {},
   "outputs": [],
   "source": [
    "path = 'file:///.....'"
   ]
  },
  {
   "cell_type": "markdown",
   "id": "17fb1330",
   "metadata": {},
   "source": [
    "# Parsing and enriching ransomware negotiations"
   ]
  },
  {
   "cell_type": "markdown",
   "id": "5123ece0",
   "metadata": {},
   "source": [
    "- How to get the text within the HTML element (div)? \n",
    "- How to differenciate who is talking (victim or attacker)?\n",
    "- How to get the time of each message? what is the timezone? \n",
    "- How to anonymize PII (bitcoin wallet, company name, email addreess, domain name, URL)? \n",
    "- How to add public info of the victim? \n",
    "- How to fetch info from a MISP?"
   ]
  },
  {
   "cell_type": "markdown",
   "id": "869b3867",
   "metadata": {},
   "source": [
    "## Libraries"
   ]
  },
  {
   "cell_type": "code",
   "execution_count": 197,
   "id": "db8f8f8c",
   "metadata": {},
   "outputs": [],
   "source": [
    "import pandas as pd\n",
    "from io import StringIO\n",
    "\n",
    "from selenium import webdriver\n",
    "from webdriver_manager.chrome import ChromeDriverManager\n",
    "from selenium.webdriver.common.keys import Keys\n",
    "from selenium.webdriver.common.by import By\n",
    "\n",
    "import warnings\n",
    "warnings.filterwarnings('ignore')"
   ]
  },
  {
   "cell_type": "markdown",
   "id": "82615cbe",
   "metadata": {},
   "source": [
    "## Parsing Anon-Cl0p-Welcome!.html"
   ]
  },
  {
   "cell_type": "code",
   "execution_count": 161,
   "id": "0def1c98",
   "metadata": {},
   "outputs": [],
   "source": [
    "file = 'Anon-Cl0p-Welcome!.html'"
   ]
  },
  {
   "cell_type": "code",
   "execution_count": 163,
   "id": "c48e737e",
   "metadata": {},
   "outputs": [
    {
     "name": "stderr",
     "output_type": "stream",
     "text": [
      "\n",
      "\n",
      "====== WebDriver manager ======\n",
      "Current google-chrome version is 107.0.5304\n",
      "Get LATEST driver version for 107.0.5304\n",
      "Driver [/Users/nw/.wdm/drivers/chromedriver/mac64/107.0.5304.62/chromedriver] found in cache\n"
     ]
    }
   ],
   "source": [
    "driver = webdriver.Chrome(ChromeDriverManager().install())\n",
    "url = path+file\n",
    "driver.get(url)"
   ]
  },
  {
   "cell_type": "markdown",
   "id": "701515d4",
   "metadata": {},
   "source": [
    "Getting the HTML element"
   ]
  },
  {
   "cell_type": "code",
   "execution_count": 108,
   "id": "40f3ad06",
   "metadata": {},
   "outputs": [],
   "source": [
    "# selector = #main > div > div.col-lg-7 > div > div.chat-box.bg-white.small\n",
    "conversation = driver.find_element(By.XPATH, \"//div[@class='chat-box bg-white small']\").text"
   ]
  },
  {
   "cell_type": "markdown",
   "id": "e201eb1f",
   "metadata": {},
   "source": [
    "Reading as a single dataframe"
   ]
  },
  {
   "cell_type": "code",
   "execution_count": 136,
   "id": "a8e46866",
   "metadata": {},
   "outputs": [],
   "source": [
    "df_raw = pd.read_csv(StringIO(conversation), sep=\"\\\\n\",engine='python',header=None)"
   ]
  },
  {
   "cell_type": "markdown",
   "id": "a3d1a678",
   "metadata": {},
   "source": [
    "Splitting single dataframe in two columns (date and message)"
   ]
  },
  {
   "cell_type": "code",
   "execution_count": 155,
   "id": "49481c58",
   "metadata": {},
   "outputs": [],
   "source": [
    "df = pd.DataFrame()\n",
    "df['date'] = df_raw.iloc[1::2, :].reset_index(drop=True)\n",
    "df['message'] = df_raw.iloc[0::2, :].reset_index(drop=True)"
   ]
  },
  {
   "cell_type": "code",
   "execution_count": 165,
   "id": "4a6f4efd",
   "metadata": {},
   "outputs": [],
   "source": [
    "df.to_excel('Anon-Cl0p-Welcome!.xlsx')"
   ]
  },
  {
   "cell_type": "markdown",
   "id": "10c5547a",
   "metadata": {},
   "source": [
    "## Parsing Chat.html"
   ]
  },
  {
   "cell_type": "code",
   "execution_count": 168,
   "id": "197b49fb",
   "metadata": {},
   "outputs": [],
   "source": [
    "file = 'Chat.html'"
   ]
  },
  {
   "cell_type": "code",
   "execution_count": 169,
   "id": "71442cc4",
   "metadata": {},
   "outputs": [
    {
     "name": "stderr",
     "output_type": "stream",
     "text": [
      "\n",
      "\n",
      "====== WebDriver manager ======\n",
      "Current google-chrome version is 107.0.5304\n",
      "Get LATEST driver version for 107.0.5304\n",
      "Driver [/Users/nw/.wdm/drivers/chromedriver/mac64/107.0.5304.62/chromedriver] found in cache\n"
     ]
    }
   ],
   "source": [
    "driver = webdriver.Chrome(ChromeDriverManager().install())\n",
    "url = path+file\n",
    "driver.get(url)"
   ]
  },
  {
   "cell_type": "code",
   "execution_count": 200,
   "id": "ca1ebb31",
   "metadata": {},
   "outputs": [],
   "source": [
    "conversation = driver.find_elements(By.XPATH, \"//div[@class='card-content chat']/article\")"
   ]
  },
  {
   "cell_type": "code",
   "execution_count": 201,
   "id": "bce714bc",
   "metadata": {},
   "outputs": [],
   "source": [
    "df = pd.DataFrame(columns=['message','actor'])\n",
    "for message in conversation:\n",
    "    df = df.append({'message':message.text,'actor':message.get_attribute(\"class\")},ignore_index=True)"
   ]
  },
  {
   "cell_type": "markdown",
   "id": "e2302f2f",
   "metadata": {},
   "source": [
    "Replacing names of actors"
   ]
  },
  {
   "cell_type": "code",
   "execution_count": 203,
   "id": "a7528c2e",
   "metadata": {},
   "outputs": [],
   "source": [
    "df['actor'] = df['actor'].apply(lambda x: 'victim' if x=='support' else 'attacker')"
   ]
  },
  {
   "cell_type": "code",
   "execution_count": 206,
   "id": "3609808f",
   "metadata": {},
   "outputs": [],
   "source": [
    "df.to_excel('Chat.xlsx')"
   ]
  },
  {
   "cell_type": "markdown",
   "id": "712312c1",
   "metadata": {},
   "source": [
    "# eb560a6aecbbf6ee.html"
   ]
  },
  {
   "cell_type": "code",
   "execution_count": 215,
   "id": "8766cd08",
   "metadata": {},
   "outputs": [
    {
     "name": "stderr",
     "output_type": "stream",
     "text": [
      "\n",
      "\n",
      "====== WebDriver manager ======\n",
      "Current google-chrome version is 107.0.5304\n",
      "Get LATEST driver version for 107.0.5304\n",
      "Driver [/Users/nw/.wdm/drivers/chromedriver/mac64/107.0.5304.62/chromedriver] found in cache\n"
     ]
    }
   ],
   "source": [
    "file = 'eb560a6aecbbf6ee.html'\n",
    "driver = webdriver.Chrome(ChromeDriverManager().install())\n",
    "url = path+file\n",
    "driver.get(url)"
   ]
  },
  {
   "cell_type": "code",
   "execution_count": 220,
   "id": "1f1706a8",
   "metadata": {},
   "outputs": [],
   "source": [
    "conversation = driver.find_elements(By.XPATH, \"//div[@class='mesgs']/div/div\")"
   ]
  },
  {
   "cell_type": "code",
   "execution_count": 221,
   "id": "babf5c63",
   "metadata": {},
   "outputs": [],
   "source": [
    "df = pd.DataFrame(columns=['message','actor'])\n",
    "for message in conversation:\n",
    "    df = df.append({'message':message.text,'actor':message.get_attribute(\"class\")},ignore_index=True)"
   ]
  },
  {
   "cell_type": "markdown",
   "id": "4872bc3a",
   "metadata": {},
   "source": [
    "Extracting the date from the message"
   ]
  },
  {
   "cell_type": "code",
   "execution_count": 229,
   "id": "9e1d3c8a",
   "metadata": {},
   "outputs": [],
   "source": [
    "df['date'] = df['message'].apply(lambda x: x.split('\\n')[-1] if len(x.split('\\n'))>1 else x )"
   ]
  },
  {
   "cell_type": "code",
   "execution_count": null,
   "id": "4154f70d",
   "metadata": {},
   "outputs": [],
   "source": [
    "df['message']"
   ]
  },
  {
   "cell_type": "markdown",
   "id": "a3b15704",
   "metadata": {},
   "source": [
    "Replacing actor names"
   ]
  },
  {
   "cell_type": "code",
   "execution_count": 231,
   "id": "ba60c0e2",
   "metadata": {},
   "outputs": [],
   "source": [
    "df['actor'] = df['actor'].apply(lambda x: 'victim' if x=='outgoing_msg' else 'attacker')"
   ]
  },
  {
   "cell_type": "code",
   "execution_count": 233,
   "id": "5915c289",
   "metadata": {},
   "outputs": [],
   "source": [
    "df.to_excel('eb560a6aecbbf6ee.xlsx')"
   ]
  },
  {
   "cell_type": "markdown",
   "id": "4848a689",
   "metadata": {},
   "source": [
    "# einighausen.html"
   ]
  },
  {
   "cell_type": "code",
   "execution_count": 234,
   "id": "0301b250",
   "metadata": {},
   "outputs": [
    {
     "name": "stderr",
     "output_type": "stream",
     "text": [
      "\n",
      "\n",
      "====== WebDriver manager ======\n",
      "Current google-chrome version is 107.0.5304\n",
      "Get LATEST driver version for 107.0.5304\n",
      "Driver [/Users/nw/.wdm/drivers/chromedriver/mac64/107.0.5304.62/chromedriver] found in cache\n"
     ]
    }
   ],
   "source": [
    "file = 'einighausen.html'\n",
    "driver = webdriver.Chrome(ChromeDriverManager().install())\n",
    "url = path+file\n",
    "driver.get(url)"
   ]
  },
  {
   "cell_type": "code",
   "execution_count": 239,
   "id": "a7a9e4bc",
   "metadata": {},
   "outputs": [],
   "source": [
    "conversation = driver.find_elements(By.XPATH, \"//div[@class='conversation']/section/div\")"
   ]
  },
  {
   "cell_type": "code",
   "execution_count": 241,
   "id": "8b6c7123",
   "metadata": {},
   "outputs": [],
   "source": [
    "df = pd.DataFrame(columns=['message','actor'])\n",
    "for message in conversation:\n",
    "    df = df.append({'message':message.text,'actor':message.get_attribute(\"class\")},ignore_index=True)"
   ]
  },
  {
   "cell_type": "markdown",
   "id": "70657820",
   "metadata": {},
   "source": [
    "Remove weird lines with actor == 'clear'"
   ]
  },
  {
   "cell_type": "code",
   "execution_count": 244,
   "id": "08e1dfb3",
   "metadata": {},
   "outputs": [],
   "source": [
    "df = df[df['actor']!='clear'].reset_index(drop=True)"
   ]
  },
  {
   "cell_type": "markdown",
   "id": "b99b2729",
   "metadata": {},
   "source": [
    "Replacing actor name"
   ]
  },
  {
   "cell_type": "code",
   "execution_count": 246,
   "id": "327935e8",
   "metadata": {},
   "outputs": [],
   "source": [
    "df['actor'] = df['actor'].apply(lambda x: 'victim' if x=='from-me' else 'attacker')"
   ]
  },
  {
   "cell_type": "code",
   "execution_count": 248,
   "id": "682c91a5",
   "metadata": {},
   "outputs": [],
   "source": [
    "df.to_excel('einighausen.xlsx')"
   ]
  },
  {
   "cell_type": "markdown",
   "id": "da5639e2",
   "metadata": {},
   "source": [
    "# Suncrypt_Chat.html"
   ]
  },
  {
   "cell_type": "code",
   "execution_count": 249,
   "id": "79883968",
   "metadata": {},
   "outputs": [
    {
     "name": "stderr",
     "output_type": "stream",
     "text": [
      "\n",
      "\n",
      "====== WebDriver manager ======\n",
      "Current google-chrome version is 107.0.5304\n",
      "Get LATEST driver version for 107.0.5304\n",
      "Get LATEST driver version for 107.0.5304\n",
      "Trying to download new driver from https://chromedriver.storage.googleapis.com/107.0.5304.62/chromedriver_mac64.zip\n",
      "Driver has been saved in cache [/Users/nw/.wdm/drivers/chromedriver/mac64/107.0.5304.62]\n"
     ]
    }
   ],
   "source": [
    "file = 'Suncrypt_Chat.html'\n",
    "driver = webdriver.Chrome(ChromeDriverManager().install())\n",
    "url = path+file\n",
    "driver.get(url)"
   ]
  },
  {
   "cell_type": "code",
   "execution_count": 255,
   "id": "d9ccc935",
   "metadata": {},
   "outputs": [],
   "source": [
    "conversation = driver.find_elements(By.XPATH, \"//div[@class='card-content chat']/article\")\n",
    "\n",
    "df = pd.DataFrame(columns=['message','actor'])\n",
    "for message in conversation:\n",
    "    df = df.append({'message':message.text,'actor':message.get_attribute(\"class\")},ignore_index=True)"
   ]
  },
  {
   "cell_type": "code",
   "execution_count": 257,
   "id": "89f10722",
   "metadata": {},
   "outputs": [],
   "source": [
    "df['actor'] = df['actor'].apply(lambda x: 'victim' if x=='support' else 'attacker')"
   ]
  },
  {
   "cell_type": "code",
   "execution_count": 258,
   "id": "da78dd0c",
   "metadata": {},
   "outputs": [],
   "source": [
    "df.to_excel('Suncrypt_Chat.xlsx')"
   ]
  }
 ],
 "metadata": {
  "kernelspec": {
   "display_name": "Python 3",
   "language": "python",
   "name": "python3"
  },
  "language_info": {
   "codemirror_mode": {
    "name": "ipython",
    "version": 3
   },
   "file_extension": ".py",
   "mimetype": "text/x-python",
   "name": "python",
   "nbconvert_exporter": "python",
   "pygments_lexer": "ipython3",
   "version": "3.9.14"
  }
 },
 "nbformat": 4,
 "nbformat_minor": 5
}
